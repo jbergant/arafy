{
 "cells": [
  {
   "cell_type": "code",
   "execution_count": 1,
   "metadata": {},
   "outputs": [],
   "source": [
    "import csv\n",
    "import pandas as pd\n",
    "\n",
    "input_file_path = 'data/022405_complete_izvoz.csv'\n",
    "output_file_path = 'data/022405_izvoz.csv'\n",
    "selected_fields = ['sys_RespNum','Demo_spol','Demo_starost','Demo_regija','Q1a_1_other', 'Q1a_2_other', 'Q1a_6_other', 'Q1a_6_other', 'Q1a_6_other', 'Q1a_6_other', 'Q1a_7_other', 'Q1a_8_other', 'Q1a_9_other', 'Q1a_10_other']  # Replace with your specific fields\n",
    "\n",
    "df = pd.read_csv(input_file_path, usecols=selected_fields, delimiter=';')\n",
    "df.to_csv(output_file_path, index=False)"
   ]
  },
  {
   "cell_type": "code",
   "execution_count": 1,
   "metadata": {},
   "outputs": [
    {
     "name": "stdout",
     "output_type": "stream",
     "text": [
      "Recommended Words:\n",
      ", 24, abanka, addicobank, addiko, adico, abanet, adeko, adikko, adikobank, adikoo, avstrija, banknet, bankosaopaulo, bks, bankakoper, bankain, bv, cryptocom, db, dbs, dbsnet, delavskahranilnica, dh, dhhranilnik, dhmobilni, dhplus, delavska, delavskabanka, dezelnabanka, deelna, deelnabankaslovenije, gorenjskabanka, dhmobilnaaplikacija, dhl, ebanka, erstembanking, flik, flip, gornjska, generali, go, hranilnicalon, hypo, intesa, intesasanmarko, intesasanpaolo, intesasan, intesasanpaulobank, isps, joompay, kbm, kbmbanka, kbs, klik, klikin, koperbanka, koprska, koprskabanka, kreditbanka, krekova, lb, linkm, lon, ljubljanska, ljubljanskabanka, lom, mdenarnica, mojskb, mariborskabanka, mbanknovakbm, mbankankbm, mbills, mislimdaimajovsebankevtemasuspletnoinmobilnobanko, mojnlb, monese, moneta, mstik, nbanka, n1, n24, n25, n26, nkb, nlb, sparkasse, reifaisen, skb, nklklik, nlbklikin, nlbklikpro, nlbpay, nlbproklik, skerbank, novakbm, nbm, netstik, njbmraiffeisenbank, nkbmaribor, nkbmb, nkbmspletnabanka, nkgm, visa, unicredit, nlk, novabanka, revolut, novalb, ostale, pay, paypal, plutus, potarca, potnebankeslovenije, reifeissen, reiff, skbnet, sanpaolobank, sanpaulo, santader, saopaolo, sberbanka, sparbank, sparcase, spletnabankadh, srebank, swissbank, unicreditbank, vallut, valu, vipavskahranilnica, abenka, adiiko, bankanetnkbm, delhranilnica, dhdenarnik, gbkranj, gblink, hipo, inet, intesasanpaolomobilnabanka, kliknlb, mbank, n6, nbl, nevem, nkbmmbanknet, otp, pbs, skbanka, skrill, unicreditonline, unikredicbank, volksbank\n"
     ]
    }
   ],
   "source": [
    "from rapidfuzz import process, fuzz\n",
    "unique_words = \"..., 24, A banka, ADDICO BANK, ADDIKO, ADDIKO bank, ADICO, Abanet, Abanka, Addico, Addico banka, Addiko, Addiko Banka, Addiko bank, Addiko e bank, Addikobank, Adeko, Adicco, Adico, Adikko, Adiko, Adiko bank, Adiko banka, Adikoo, Avstrija, BANK@NET, BANKANET, BAnko Sao Paulo, BKS, Bank@Net, Bank@net, Banka Koper, Banka in, Banka@net, BankaNet, Bankanet, Banknet, Bv, Crypto.com, DB, DBS, DBSnet, DELAVSKA HRANILNICA, DH, DH HRANILNIK, DH mobilni, DH plus, Dbs, Delavsja hranulnica, Delavska, Delavska  hranilnica, Delavska banka, Delavska hranilnica, Delovska hranilnica, Dezelna banka, Deželna, Deželna Banka, Deželna banka, Deželna banka Slovenije, Deželna banka,, Deželna banka, Gorenjska banka, Deželne banka, Dh, Dh mobilna, Dh mobilna aplikacija, Dhl, E banka, ERSTEMBANKING, Flik, Flip, GORENJSKA BANKA, GORNJSKA, Generali, Go, Gorenjska, Gorenjska Banka, Gorenjska banka, Hranilnica Lon, Hypo, INTESA, INTESA SAN MARKO, INTESA SANPAOLO, INTESA SAOPAOLO, Intensa, Intensa Saopaolo, Interes sanpaolo, Interesa San Paolo, IntesSanpaolo, Intesa, Intesa San, Intesa San Paolo, Intesa San paolo, Intesa SanPaolo Bank, Intesa Sanpaolo, Intesa Sao Paolo, Intesa san Paolo, Intesa san paolo, Intesa sanpaolo, Intesa sanpaolo bank, Intesa sanpaulo bank, Intesa saopaulo, IntesaSanpaolo, IntesaSaopaolo, Intesasanpaolo, Isps, Joompay, KBM, KBM banka, KBS, KLIK, KLIKIN, Kbm, Kbs, Klik, Klik in, KlikIn, Klikin, Koper banka, Koprska, Koprska banka, Kredit Banka, Kreditna banka, Krekova, LB, LINKm, LON, Lb, Link, Link m, Linm, Ljubljanska, Ljubljanska Banka, Ljubljanska banka, Lom, Lon, MDENARNICA, MOJ@SKB, Mariborska banka, Mbank (novakbm), Mbank@net, Mbanka nkbm, Mbills, Mbils, Mdenarnica, Mislim da imajo vse banke v tem času spletno in mobilno banko!, Moj NLB, Moj@SKB, Moj@skb, Mojskb, Monese, Moneta, Mstik, N BANKA, N Banka, N bank, N banka, N1, N24, N25, N26, NKB, NKBM, NKBM,, NKBM, NLB, Sparkasse, Reifaisen, Adiko, SKB,, NKL KLIK, NLB, NLB KLIK, NLB KLIK IN, NLB Klik, NLB Klik pro, NLB PAY, NLB Pay, NLB klik, NLB klikin, NLB klikpro, NLB pay, NLB proklik, NLB, , SKB, NLB, SKB, Skerbank, NLBpay, NOVA KBM, Nbanka,, Nbm, Net stik, Netstik, Njbm raiffeisenbank, Nkb, Nkb maribor, Nkb mb, Nkbm, Nkbm spletna banka, Nkgm, Nkm, Nkm banka, Nkmb, Nlb, Nlb Klik, Nlb banka, Nlb klik, Nlb klik, visa, Nlb pay, Nlb,, Nlb, nkbm, addiko, delavska hranilnica, sparkasse, Nlb, unicredit, sparkasse, delavska, Nlb,Abanka, Nlbklik, Nlk, Nova KBM, Nova banka, Nova kbm, Nova kbm, nlb pay, revolut, n26, Nova lb, Nova ljubljanska banka, NovaKBM, Novakbm, Ostale, Pay, Pay pal, PayPal, Paypal, Paypall, Play, Plutus, Poštarca, Poštne banke Slovenije, Reifeissen, Reiff, Revolut, Revoult, SBERBANK, SKB, SKB Banka, SKB NET, SKB banka, SKB net, SPARKASSE, SPARKASSE, INTESA SANPAOLO, San Paolo bank, San Paulo, San paolo, Sanpaolo, Santader, Sao Paulo, Saopaolo, Sber bank, Sberbank, Sberbanka, Skb, Skb net, Skbnet, Spar Kaasse, Spar bank, Spar case, Sparcase, Sparcasse, Sparkase, Sparkasse, Sperbank, Spletna banka DH, Sprkase, Srebank, Swissbank, UNICREDIT, Uni Credit Bank, Uni credit bank, Uni kredit, UniCredit, UniCredit Bank, UniCredit bank, Unicredit, Unicredit Bank, Unicredit Banka, Unikredit bank, VALLUT, Valu, Vipavska hranilnica, a banka, a benka, a-banka, abanet, abanka, addico, addiko, addiko bank, adiiko, adikko, adiko, adiko banka, banka koper, banka net, bankanet, bankanet (NKBM), banknet, bks, deavska hraninica, del. hranilnica, delAVSKA HRANILNICA, delavska, delavska h, delavska hranilnica, delavskaa hranilnica, delsvka hranilnica, dezelna, deželna banka, dh, dh denarnik, dh mobilni, e-lon, flik, gb kranj, gb link, gorenjska, gorenjska b, gorenjska banka, hipo, hranilnica lon, i net, intesa, intesa san paolo, intesa san paolo mobilna banka, intesa sao paolo, intesasanpaolo, intessa, kbm, klik, klik in, klik nlb, klik,, klikin, krekova, lb, link, link nlb, lon, mBank, mBank@, mbank, mbank@net, mbillis, mbills, mbils, moja skb, mojskb, n banka, n24, n26, n6, nbanka, nbl, netstik, nevem, nkb, nkbm, nkbm mbank@net, nkm, nlb, nlb klik, nlb klikin, nlb pay, nlbklik, nova KBM, nova kbm, nova lj banka, nova ljublanska banka, nova ljubljanska banka, novakbm, otp, paypal, paypall, pbs, reifeisen, revolut, revoult, sk  banka, skb, skb net, skb.net, skbnet, skrill, sparcasse, sparkase, sparkasee, sparkasse, unicredit, unicredit bank, unicredit online, unicredit, intesa, addiko, nkbm, lon, gorenjska, n banka, sparkasse, delavska hranilnica, unikredic bank, volksbank\"\n",
    "\n",
    "\n",
    "\n",
    "import re\n",
    "\n",
    "def normalize(word):\n",
    "    return re.sub(r\"[^a-z0-9\\sščž]\", \"\", word.lower()).replace(\" \", \"\")\n",
    "\n",
    "unique_words_list = [normalize(word.strip()) for word in unique_words.split(\",\")]\n",
    "\n",
    "\n",
    "recommended_list = []\n",
    "\n",
    "\n",
    "for word in unique_words_list:\n",
    "    # Check if the word matches an existing recommended word\n",
    "    if recommended_list:\n",
    "        match_result = process.extractOne(word, recommended_list, scorer=fuzz.ratio)\n",
    "        match = match_result[0] if match_result else None\n",
    "        score = match_result[1] if match_result else 0\n",
    "    else:\n",
    "        match, score = None, 0\n",
    "\n",
    "    # If no close match is found, add it to the recommended list\n",
    "    if score < 85:  \n",
    "        recommended_list.append(word)\n",
    "\n",
    "\n",
    "print(\"Recommended Words:\")\n",
    "print(\", \".join(recommended_list))"
   ]
  },
  {
   "cell_type": "code",
   "execution_count": null,
   "metadata": {},
   "outputs": [],
   "source": [
    "import pandas as pd\n",
    "import pyreadstat\n",
    "\n",
    "def sav_to_csv(input_sav_file, output_csv_file):\n",
    "    \"\"\"\n",
    "    Convert an SPSS .sav file to a CSV file.\n",
    "\n",
    "    :param input_sav_file: Path to the input .sav file.\n",
    "    :param output_csv_file: Path to the output .csv file.\n",
    "    \"\"\"\n",
    "    try:\n",
    "        # Read the SAV file\n",
    "        df, meta = pyreadstat.read_sav(input_sav_file)\n",
    "        \n",
    "        # Save to CSV\n",
    "        df.to_csv(output_csv_file, index=False)\n",
    "        print(f\"File successfully converted and saved as {output_csv_file}\")\n",
    "    except Exception as e:\n",
    "        print(f\"An error occurred: {e}\")\n",
    "\n",
    "\n",
    "# Replace these paths with your own file paths\n",
    "input_sav_file = \"input_file.sav\"  # Path to your SAV file\n",
    "output_csv_file = \"output_file.csv\"  # Desired path for the output CSV file\n",
    "\n",
    "sav_to_csv(input_sav_file, output_csv_file)"
   ]
  }
 ],
 "metadata": {
  "kernelspec": {
   "display_name": "myenv",
   "language": "python",
   "name": "python3"
  },
  "language_info": {
   "codemirror_mode": {
    "name": "ipython",
    "version": 3
   },
   "file_extension": ".py",
   "mimetype": "text/x-python",
   "name": "python",
   "nbconvert_exporter": "python",
   "pygments_lexer": "ipython3",
   "version": "3.13.0"
  }
 },
 "nbformat": 4,
 "nbformat_minor": 2
}

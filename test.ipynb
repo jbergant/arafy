{
 "cells": [
  {
   "cell_type": "code",
   "execution_count": 1,
   "metadata": {},
   "outputs": [],
   "source": [
    "import csv\n",
    "import pandas as pd\n",
    "\n",
    "input_file_path = 'data/022405_complete_izvoz.csv'\n",
    "output_file_path = 'data/022405_izvoz.csv'\n",
    "selected_fields = ['sys_RespNum','Demo_spol','Demo_starost','Demo_regija','Q1a_1_other', 'Q1a_2_other', 'Q1a_6_other', 'Q1a_6_other', 'Q1a_6_other', 'Q1a_6_other', 'Q1a_7_other', 'Q1a_8_other', 'Q1a_9_other', 'Q1a_10_other']  # Replace with your specific fields\n",
    "\n",
    "df = pd.read_csv(input_file_path, usecols=selected_fields, delimiter=';')\n",
    "df.to_csv(output_file_path, index=False)"
   ]
  },
  {
   "cell_type": "code",
   "execution_count": 4,
   "metadata": {},
   "outputs": [
    {
     "name": "stdout",
     "output_type": "stream",
     "text": [
      "Recommended Words:\n",
      "a1, a1slovenija, a2, amis, ario, bob, fw, hot, hofer, hofertelekom, hoferhot, jatel, krs, mobitel, nevem, neo, pelekom, siol, samsung, sanmix, simobil, svislar, t2, t1, t29, telecom, telekomslovenije, telemach, tvspored, te2, tekekom, teles, telwkom, totaltv, wfret, brigamekernininaprogramu, elstik, t21, telekon\n"
     ]
    }
   ],
   "source": [
    "from rapidfuzz import process, fuzz\n",
    "unique_words = \"A*1, A1, A1 Slovenija, A2, Amis, Ario, Bob, FW, HOT, HOt, Hofer, Hofer Telekom, Hofer hot, Hot, Jatel, Krs, Mobitel, Ne vem, Neo, Pelekom, SIOL, Samsung, Sanmix, Simobil, Siol, Svislar, T 2, T-2, T1, T2, T29, TELECOM, TELEKOM, TELEKOM SLOVENIJE, TELEMACH, TElekom, TV SPORED, Te2, Tekekom, Telecom, Telekom, Telekom Slovenije, Telekom slovenija, Telekom slovenije, Telemach, Telemah, Telemsch, Telenach, Teles, Telwkom, Total tv, WFRET, a-1, a1, bob, briga me ker ni nič na programu, elstik, mobitel, mobitelj, simobil, simobil a1, siol, t - 2, t-2, t2, t21, telecom, telekom, telekom slovenije, telekon, telemach, telemah, telemch, total tv\"\n",
    "\n",
    "\n",
    "\n",
    "import re\n",
    "\n",
    "def normalize(word):\n",
    "    return re.sub(r\"[^a-z0-9\\s]\", \"\", word.lower()).replace(\" \", \"\")\n",
    "\n",
    "unique_words_list = [normalize(word.strip()) for word in unique_words.split(\",\")]\n",
    "\n",
    "\n",
    "recommended_list = []\n",
    "\n",
    "\n",
    "for word in unique_words_list:\n",
    "    # Check if the word matches an existing recommended word\n",
    "    if recommended_list:\n",
    "        match_result = process.extractOne(word, recommended_list, scorer=fuzz.ratio)\n",
    "        match = match_result[0] if match_result else None\n",
    "        score = match_result[1] if match_result else 0\n",
    "    else:\n",
    "        match, score = None, 0\n",
    "\n",
    "    # If no close match is found, add it to the recommended list\n",
    "    if score < 85:  \n",
    "        recommended_list.append(word)\n",
    "\n",
    "\n",
    "print(\"Recommended Words:\")\n",
    "print(\", \".join(recommended_list))"
   ]
  }
 ],
 "metadata": {
  "kernelspec": {
   "display_name": "myenv",
   "language": "python",
   "name": "python3"
  },
  "language_info": {
   "codemirror_mode": {
    "name": "ipython",
    "version": 3
   },
   "file_extension": ".py",
   "mimetype": "text/x-python",
   "name": "python",
   "nbconvert_exporter": "python",
   "pygments_lexer": "ipython3",
   "version": "3.13.0"
  }
 },
 "nbformat": 4,
 "nbformat_minor": 2
}

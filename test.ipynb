{
 "cells": [
  {
   "cell_type": "code",
   "execution_count": 1,
   "metadata": {},
   "outputs": [],
   "source": [
    "import csv\n",
    "import pandas as pd\n",
    "\n",
    "input_file_path = 'data/022405_complete_izvoz.csv'\n",
    "output_file_path = 'data/022405_izvoz.csv'\n",
    "selected_fields = ['sys_RespNum','Demo_spol','Demo_starost','Demo_regija','Q1a_1_other', 'Q1a_2_other', 'Q1a_6_other', 'Q1a_6_other', 'Q1a_6_other', 'Q1a_6_other', 'Q1a_7_other', 'Q1a_8_other', 'Q1a_9_other', 'Q1a_10_other']  # Replace with your specific fields\n",
    "\n",
    "df = pd.read_csv(input_file_path, usecols=selected_fields, delimiter=';')\n",
    "df.to_csv(output_file_path, index=False)"
   ]
  }
 ],
 "metadata": {
  "kernelspec": {
   "display_name": "myenv",
   "language": "python",
   "name": "python3"
  },
  "language_info": {
   "codemirror_mode": {
    "name": "ipython",
    "version": 3
   },
   "file_extension": ".py",
   "mimetype": "text/x-python",
   "name": "python",
   "nbconvert_exporter": "python",
   "pygments_lexer": "ipython3",
   "version": "3.13.0"
  }
 },
 "nbformat": 4,
 "nbformat_minor": 2
}

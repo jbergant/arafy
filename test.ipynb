{
 "cells": [
  {
   "cell_type": "code",
   "execution_count": 1,
   "metadata": {},
   "outputs": [],
   "source": [
    "import csv\n",
    "import pandas as pd\n",
    "\n",
    "input_file_path = 'data/022405_complete_izvoz.csv'\n",
    "output_file_path = 'data/022405_izvoz.csv'\n",
    "selected_fields = ['sys_RespNum','Demo_spol','Demo_starost','Demo_regija','Q1a_1_other', 'Q1a_2_other', 'Q1a_6_other', 'Q1a_6_other', 'Q1a_6_other', 'Q1a_6_other', 'Q1a_7_other', 'Q1a_8_other', 'Q1a_9_other', 'Q1a_10_other']  # Replace with your specific fields\n",
    "\n",
    "df = pd.read_csv(input_file_path, usecols=selected_fields, delimiter=';')\n",
    "df.to_csv(output_file_path, index=False)"
   ]
  },
  {
   "cell_type": "code",
   "execution_count": 1,
   "metadata": {},
   "outputs": [
    {
     "name": "stderr",
     "output_type": "stream",
     "text": [
      "2024-12-12 12:56:14.801 WARNING streamlit.runtime.scriptrunner_utils.script_run_context: Thread 'MainThread': missing ScriptRunContext! This warning can be ignored when running in bare mode.\n",
      "2024-12-12 12:56:14.802 WARNING streamlit.runtime.state.session_state_proxy: Session state does not function when running a script without `streamlit run`\n",
      "2024-12-12 12:56:14.802 WARNING streamlit.runtime.scriptrunner_utils.script_run_context: Thread 'MainThread': missing ScriptRunContext! This warning can be ignored when running in bare mode.\n",
      "2024-12-12 12:56:14.802 WARNING streamlit.runtime.scriptrunner_utils.script_run_context: Thread 'MainThread': missing ScriptRunContext! This warning can be ignored when running in bare mode.\n",
      "2024-12-12 12:56:14.803 WARNING streamlit.runtime.scriptrunner_utils.script_run_context: Thread 'MainThread': missing ScriptRunContext! This warning can be ignored when running in bare mode.\n",
      "2024-12-12 12:56:14.806 Thread 'MainThread': missing ScriptRunContext! This warning can be ignored when running in bare mode.\n",
      "2024-12-12 12:56:14.806 Thread 'MainThread': missing ScriptRunContext! This warning can be ignored when running in bare mode.\n",
      "2024-12-12 12:56:14.807 Thread 'MainThread': missing ScriptRunContext! This warning can be ignored when running in bare mode.\n",
      "2024-12-12 12:56:14.855 \n",
      "  \u001b[33m\u001b[1mWarning:\u001b[0m to view this Streamlit app on a browser, run it with the following\n",
      "  command:\n",
      "\n",
      "    streamlit run /Users/jana/work/borut/posibleworlds/aragon/aragonapp/myenv/lib/python3.13/site-packages/ipykernel_launcher.py [ARGUMENTS]\n",
      "2024-12-12 12:56:14.856 Thread 'MainThread': missing ScriptRunContext! This warning can be ignored when running in bare mode.\n",
      "2024-12-12 12:56:14.856 Thread 'MainThread': missing ScriptRunContext! This warning can be ignored when running in bare mode.\n"
     ]
    }
   ],
   "source": [
    "import streamlit as st\n",
    "import pandas as pd\n",
    "\n",
    "# Sample DataFrame\n",
    "df = pd.DataFrame({\n",
    "    'Column1': ['A', 'B', 'C'],\n",
    "    'Column2': [1, 2, 3]\n",
    "})\n",
    "\n",
    "# Initialize session state to store the original DataFrame\n",
    "if 'original_df' not in st.session_state:\n",
    "    st.session_state['original_df'] = df.copy()\n",
    "\n",
    "# Display the data editor\n",
    "edited_df = st.data_editor(df)\n",
    "\n",
    "# Function to compare two DataFrames\n",
    "def dataframes_differ(df1, df2):\n",
    "    return not df1.equals(df2)\n",
    "\n",
    "# Check if the edited DataFrame differs from the original\n",
    "if dataframes_differ(edited_df, st.session_state['original_df']):\n",
    "    st.session_state['original_df'] = edited_df.copy()  # Update the original with the edited version\n",
    "    st.success(\"Changes have been saved.\")"
   ]
  }
 ],
 "metadata": {
  "kernelspec": {
   "display_name": "myenv",
   "language": "python",
   "name": "python3"
  },
  "language_info": {
   "codemirror_mode": {
    "name": "ipython",
    "version": 3
   },
   "file_extension": ".py",
   "mimetype": "text/x-python",
   "name": "python",
   "nbconvert_exporter": "python",
   "pygments_lexer": "ipython3",
   "version": "3.13.0"
  }
 },
 "nbformat": 4,
 "nbformat_minor": 2
}

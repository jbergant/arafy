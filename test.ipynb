{
 "cells": [
  {
   "cell_type": "code",
   "execution_count": 1,
   "metadata": {},
   "outputs": [],
   "source": [
    "import csv\n",
    "import pandas as pd\n",
    "\n",
    "input_file_path = 'data/022405_complete_izvoz.csv'\n",
    "output_file_path = 'data/022405_izvoz.csv'\n",
    "selected_fields = ['sys_RespNum','Demo_spol','Demo_starost','Demo_regija','Q1a_1_other', 'Q1a_2_other', 'Q1a_6_other', 'Q1a_6_other', 'Q1a_6_other', 'Q1a_6_other', 'Q1a_7_other', 'Q1a_8_other', 'Q1a_9_other', 'Q1a_10_other']  # Replace with your specific fields\n",
    "\n",
    "df = pd.read_csv(input_file_path, usecols=selected_fields, delimiter=';')\n",
    "df.to_csv(output_file_path, index=False)"
   ]
  },
  {
   "cell_type": "code",
   "execution_count": null,
   "metadata": {},
   "outputs": [
    {
     "name": "stdout",
     "output_type": "stream",
     "text": [
      "Recommended Words:\n",
      "addiko, addeko, addicobank, bks, bksbank, bsk, bankasparkasse, dbs, dh, delavskahranilnica, deelmabanka, gorenjska, gorenjskabanka, grawe, hippo, hranilnicalon, ispb, intesa, intesasanpaolo, ljb, lon, ljubljanskabanka, nkbm, nlb, novakbm, novakbmmaribir, novakreditnabankamaribor, otp, otpbank, phv, primorskahranilnicavipava, skb, skbbanka, skbnkbm, sparkasse, ucb, unicredit, unicreditbankaslovenija, unicreditbank, bankacelje, hranilnicavipava, primorska, sberbank, sparcase\n"
     ]
    }
   ],
   "source": [
    "from rapidfuzz import process, fuzz\n",
    "unique_words = \"ABC, Aqua, Babylove, Bistra, Blues, COCA COLA, Coca-Cola, Cocacola, Cockta, Cocta, Cokta, Corona, Costela, Costella, Costello, DANA, DM, Dana, Dinat, Donat, Donat Mg, Donat mg, Edina, Eurospin, Evian, FANTA, Fanta, Fiji, Fruc, Fructal, Gaia, Hofer, JAMNICA, JANA, Jamnica, Jamnika kiselica, Jana, Janica, Kiseljak, Kostela, Lidl, Lipički studenac, Lisa, Lissa, Mercator, Mercator voda, Mg Mivela, Mivela, Natura, Naše nam paše - Lidl, Oaza, Oda, Ora, Perier, Pivo, Prima, Primaqua, Primula, Qelle, RADENSKA, RDenska, Radenka, Radenska, Radensko, Rauch, Red bull, Redbull, Roemerquelle, Rogaška, Rogaška slatina, Romaquelle, Romencele, Romequelle, Romer Quelle, Romer quelle, Romerqelle, Romerquele, Romerquell, Romerquelle, Rommelquelle, Rommerrquelle, Rpmerquelle, Rsdenska, Römerqelle, Römmerquelle, Römrquele, SCWEPS, Saguaro, San Pellegrino, San benedetto, San pellegrino, Sarajevski Vrelec, Sarajevski kiseljak, Segura, Smart, Spar, Spar voda, Sprite, St. Benedetto, Studena, Studenac, Svetina, Sweps, Tempel, Tempelj, Templj, Tonic, Tri srca, Tus, Tuzlanski kiseljak, Tuš, Tuš voda, Voss, ZALA, ZAla, Zala, aqua, cedevita, dana, donat, donat mg, ferarelle, ferrarelle, guizza, izvir, jamnica, jamnnica, jana, kiseljak, knjaz miloš, kostela, lidl, lissa, monin, oaza, oda, perrier, radenska, radenske, rogaška, romanquelle, romer quelle, romerquelle, romqelle, san pelegrino, san pellegrino, spar, tempel, trgovinske znamke, voss, zala, Špar, Šveps\"\n",
    "\n",
    "\n",
    "\n",
    "import re\n",
    "\n",
    "def normalize(word):\n",
    "    return re.sub(r\"[^a-z0-9\\s]\", \"\", word.lower()).replace(\" \", \"\")\n",
    "\n",
    "unique_words_list = [normalize(word.strip()) for word in unique_words.split(\",\")]\n",
    "\n",
    "\n",
    "recommended_list = []\n",
    "\n",
    "\n",
    "for word in unique_words_list:\n",
    "    # Check if the word matches an existing recommended word\n",
    "    if recommended_list:\n",
    "        match_result = process.extractOne(word, recommended_list, scorer=fuzz.ratio)\n",
    "        match = match_result[0] if match_result else None\n",
    "        score = match_result[1] if match_result else 0\n",
    "    else:\n",
    "        match, score = None, 0\n",
    "\n",
    "    # If no close match is found, add it to the recommended list\n",
    "    if score < 85:  \n",
    "        recommended_list.append(word)\n",
    "\n",
    "\n",
    "print(\"Recommended Words:\")\n",
    "print(\", \".join(recommended_list))"
   ]
  }
 ],
 "metadata": {
  "kernelspec": {
   "display_name": "myenv",
   "language": "python",
   "name": "python3"
  },
  "language_info": {
   "codemirror_mode": {
    "name": "ipython",
    "version": 3
   },
   "file_extension": ".py",
   "mimetype": "text/x-python",
   "name": "python",
   "nbconvert_exporter": "python",
   "pygments_lexer": "ipython3",
   "version": "3.13.0"
  }
 },
 "nbformat": 4,
 "nbformat_minor": 2
}

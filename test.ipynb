{
 "cells": [
  {
   "cell_type": "code",
   "execution_count": 1,
   "metadata": {},
   "outputs": [],
   "source": [
    "import csv\n",
    "import pandas as pd\n",
    "\n",
    "input_file_path = 'data/022405_complete_izvoz.csv'\n",
    "output_file_path = 'data/022405_izvoz.csv'\n",
    "selected_fields = ['sys_RespNum','Demo_spol','Demo_starost','Demo_regija','Q1a_1_other', 'Q1a_2_other', 'Q1a_6_other', 'Q1a_6_other', 'Q1a_6_other', 'Q1a_6_other', 'Q1a_7_other', 'Q1a_8_other', 'Q1a_9_other', 'Q1a_10_other']  # Replace with your specific fields\n",
    "\n",
    "df = pd.read_csv(input_file_path, usecols=selected_fields, delimiter=';')\n",
    "df.to_csv(output_file_path, index=False)"
   ]
  },
  {
   "cell_type": "code",
   "execution_count": 1,
   "metadata": {},
   "outputs": [
    {
     "name": "stdout",
     "output_type": "stream",
     "text": [
      "Recommended Words:\n",
      "addiko, addeko, addicobank, bks, bksbank, bsk, bankasparkasse, dbs, dh, delavskahranilnica, deelmabanka, gorenjska, gorenjskabanka, grawe, hippo, hranilnicalon, ispb, intesa, intesasanpaolo, ljb, lon, ljubljanskabanka, nkbm, nlb, novakbm, novakbmmaribir, novakreditnabankamaribor, otp, otpbank, phv, primorskahranilnicavipava, skb, skbbanka, skbnkbm, sparkasse, ucb, unicredit, unicreditbankaslovenija, unicreditbank, bankacelje, hranilnicavipava, primorska, sberbank, sparcase\n"
     ]
    }
   ],
   "source": [
    "from rapidfuzz import process, fuzz\n",
    "unique_words = \"ADDIKO, Addeko, Addico Bank, Addiko, Addiko Bank, Addiko bank, Adiko, BKS, BKS Bank, BSK, Banka Sparkasse, Bks, Bks bank, DBS, DH, Dbs, Delavska Hranilnica, Delavska hranilnica, Deželma banka, Deželna Banka, Dh, Gorenjska, Gorenjska banka, Grawe, Hippo, Hranilnica LON, ISPB, Intesa, Intesa San paolo, Intesa Sanpolo, Intesa sanpaolo, Intesa sao paolo, Intesa saopaolo, IntesaSP, LJB, LON, Ljubljanska banka, Lon, NKBM, NKBMB, NLB, Nkbm, Nlb, Nova KBM, Nova kbm, Nova kbm maribir, Nova kreditna banka Maribor, OTP, Otp bank, PHV, Primorska hranilnica Vipava, SKB, SKB banka, SKB&NKBM, Skb, Sparkasse, UCB, UniCredit, UniCredit Banka Slovenija, Unicredit, Unicredit bank, addiko, addiko bank, adiko, banka celje, dbs, delavska hranilnica, deželna banka, gorenjska, gorenjska banka, hranilnica vipava, intesa, intesa sanpaolo, lon, nkbm, nlb, nova kbm, novakbm, phv, primorska, sberbank, skb, sparcase, sparkasse, unicredit, unicreditbank\"\n",
    "\n",
    "\n",
    "\n",
    "import re\n",
    "\n",
    "def normalize(word):\n",
    "    return re.sub(r\"[^a-z0-9\\s]\", \"\", word.lower()).replace(\" \", \"\")\n",
    "\n",
    "unique_words_list = [normalize(word.strip()) for word in unique_words.split(\",\")]\n",
    "\n",
    "\n",
    "recommended_list = []\n",
    "\n",
    "\n",
    "for word in unique_words_list:\n",
    "    # Check if the word matches an existing recommended word\n",
    "    if recommended_list:\n",
    "        match_result = process.extractOne(word, recommended_list, scorer=fuzz.ratio)\n",
    "        match = match_result[0] if match_result else None\n",
    "        score = match_result[1] if match_result else 0\n",
    "    else:\n",
    "        match, score = None, 0\n",
    "\n",
    "    # If no close match is found, add it to the recommended list\n",
    "    if score < 85:  \n",
    "        recommended_list.append(word)\n",
    "\n",
    "\n",
    "print(\"Recommended Words:\")\n",
    "print(\", \".join(recommended_list))"
   ]
  },
  {
   "cell_type": "code",
   "execution_count": null,
   "metadata": {},
   "outputs": [],
   "source": [
    "import pandas as pd\n",
    "import pyreadstat\n",
    "\n",
    "def sav_to_csv(input_sav_file, output_csv_file):\n",
    "    \"\"\"\n",
    "    Convert an SPSS .sav file to a CSV file.\n",
    "\n",
    "    :param input_sav_file: Path to the input .sav file.\n",
    "    :param output_csv_file: Path to the output .csv file.\n",
    "    \"\"\"\n",
    "    try:\n",
    "        # Read the SAV file\n",
    "        df, meta = pyreadstat.read_sav(input_sav_file)\n",
    "        \n",
    "        # Save to CSV\n",
    "        df.to_csv(output_csv_file, index=False)\n",
    "        print(f\"File successfully converted and saved as {output_csv_file}\")\n",
    "    except Exception as e:\n",
    "        print(f\"An error occurred: {e}\")\n",
    "\n",
    "\n",
    "# Replace these paths with your own file paths\n",
    "input_sav_file = \"input_file.sav\"  # Path to your SAV file\n",
    "output_csv_file = \"output_file.csv\"  # Desired path for the output CSV file\n",
    "\n",
    "sav_to_csv(input_sav_file, output_csv_file)"
   ]
  }
 ],
 "metadata": {
  "kernelspec": {
   "display_name": "myenv",
   "language": "python",
   "name": "python3"
  },
  "language_info": {
   "codemirror_mode": {
    "name": "ipython",
    "version": 3
   },
   "file_extension": ".py",
   "mimetype": "text/x-python",
   "name": "python",
   "nbconvert_exporter": "python",
   "pygments_lexer": "ipython3",
   "version": "3.13.0"
  }
 },
 "nbformat": 4,
 "nbformat_minor": 2
}
